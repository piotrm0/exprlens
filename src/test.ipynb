{
 "cells": [
  {
   "cell_type": "code",
   "execution_count": 1,
   "metadata": {},
   "outputs": [],
   "source": [
    "%load_ext autoreload\n",
    "%autoreload 2\n",
    "from exprlens import *\n",
    "from ast import parse, dump, unparse, AST\n",
    "import ast"
   ]
  },
  {
   "cell_type": "code",
   "execution_count": 2,
   "metadata": {},
   "outputs": [
    {
     "name": "stdout",
     "output_type": "stream",
     "text": [
      "Help on class BoundArguments in module inspect:\n",
      "\n",
      "class BoundArguments(builtins.object)\n",
      " |  BoundArguments(signature, arguments)\n",
      " |  \n",
      " |  Result of `Signature.bind` call.  Holds the mapping of arguments\n",
      " |  to the function's parameters.\n",
      " |  \n",
      " |  Has the following public attributes:\n",
      " |  \n",
      " |  * arguments : dict\n",
      " |      An ordered mutable mapping of parameters' names to arguments' values.\n",
      " |      Does not contain arguments' default values.\n",
      " |  * signature : Signature\n",
      " |      The Signature object that created this instance.\n",
      " |  * args : tuple\n",
      " |      Tuple of positional arguments values.\n",
      " |  * kwargs : dict\n",
      " |      Dict of keyword arguments values.\n",
      " |  \n",
      " |  Methods defined here:\n",
      " |  \n",
      " |  __eq__(self, other)\n",
      " |      Return self==value.\n",
      " |  \n",
      " |  __getstate__(self)\n",
      " |      Helper for pickle.\n",
      " |  \n",
      " |  __init__(self, signature, arguments)\n",
      " |      Initialize self.  See help(type(self)) for accurate signature.\n",
      " |  \n",
      " |  __repr__(self)\n",
      " |      Return repr(self).\n",
      " |  \n",
      " |  __setstate__(self, state)\n",
      " |  \n",
      " |  apply_defaults(self)\n",
      " |      Set default values for missing arguments.\n",
      " |      \n",
      " |      For variable-positional arguments (*args) the default is an\n",
      " |      empty tuple.\n",
      " |      \n",
      " |      For variable-keyword arguments (**kwargs) the default is an\n",
      " |      empty dict.\n",
      " |  \n",
      " |  ----------------------------------------------------------------------\n",
      " |  Readonly properties defined here:\n",
      " |  \n",
      " |  args\n",
      " |  \n",
      " |  kwargs\n",
      " |  \n",
      " |  signature\n",
      " |  \n",
      " |  ----------------------------------------------------------------------\n",
      " |  Data descriptors defined here:\n",
      " |  \n",
      " |  __weakref__\n",
      " |      list of weak references to the object (if defined)\n",
      " |  \n",
      " |  arguments\n",
      " |  \n",
      " |  ----------------------------------------------------------------------\n",
      " |  Data and other attributes defined here:\n",
      " |  \n",
      " |  __hash__ = None\n",
      "\n"
     ]
    }
   ],
   "source": [
    "from inspect import BoundArguments\n",
    "help(BoundArguments)"
   ]
  },
  {
   "cell_type": "code",
   "execution_count": 4,
   "metadata": {},
   "outputs": [
    {
     "data": {
      "text/plain": [
       "<BoundArguments (args=(1, 2, 3), kwargs={'a': 42})>"
      ]
     },
     "execution_count": 4,
     "metadata": {},
     "output_type": "execute_result"
    }
   ],
   "source": [
    "kwargs.replace(1,2,3, value=dict(a=42))"
   ]
  },
  {
   "cell_type": "code",
   "execution_count": null,
   "metadata": {},
   "outputs": [],
   "source": [
    "for l in Collect.List.items(list(range(10))):\n",
    "    print(l)"
   ]
  },
  {
   "cell_type": "code",
   "execution_count": null,
   "metadata": {},
   "outputs": [],
   "source": [
    "for l in Collect.Dict.items(dict(a=42, b=10)):\n",
    "    print(l)"
   ]
  },
  {
   "cell_type": "code",
   "execution_count": null,
   "metadata": {},
   "outputs": [],
   "source": [
    "arg[0].replace((1,2,3), value=42)"
   ]
  },
  {
   "cell_type": "code",
   "execution_count": null,
   "metadata": {},
   "outputs": [],
   "source": [
    "tuple(range(10))[0:5:2]"
   ]
  },
  {
   "cell_type": "code",
   "execution_count": null,
   "metadata": {},
   "outputs": [],
   "source": [
    "s = slice(0, 10, 2)"
   ]
  },
  {
   "cell_type": "code",
   "execution_count": null,
   "metadata": {},
   "outputs": [],
   "source": [
    "slice(0, 10, None).indices(len(list(range(0,20))))"
   ]
  },
  {
   "cell_type": "code",
   "execution_count": null,
   "metadata": {},
   "outputs": [],
   "source": [
    "arg[0:10:2].set(list(range(0,20)), value=42)"
   ]
  },
  {
   "cell_type": "code",
   "execution_count": null,
   "metadata": {},
   "outputs": [],
   "source": [
    "slice(1,2,3)"
   ]
  },
  {
   "cell_type": "code",
   "execution_count": null,
   "metadata": {},
   "outputs": [],
   "source": [
    "dump(parse(repr(Expr.negation(arg)), mode=\"eval\"))"
   ]
  },
  {
   "cell_type": "code",
   "execution_count": null,
   "metadata": {},
   "outputs": [],
   "source": [
    "import inspect\n",
    "inspect.signature(ast.Constant.__init__.__call__)"
   ]
  },
  {
   "cell_type": "code",
   "execution_count": null,
   "metadata": {},
   "outputs": [],
   "source": [
    "Expr.disjunction(arg[0], arg[2]).get([0, 0, 1])"
   ]
  },
  {
   "cell_type": "code",
   "execution_count": null,
   "metadata": {},
   "outputs": [],
   "source": [
    "dump(parse(\"a.b\", mode=\"eval\"))"
   ]
  },
  {
   "cell_type": "code",
   "execution_count": null,
   "metadata": {},
   "outputs": [],
   "source": [
    "# Basic usage\n",
    "\n",
    "from exprlens import arg\n",
    "\n",
    "first = arg[0] # lens for getting the first item in the first argument from a call\n",
    "\n",
    "# getter can be accessed using the `get` method or by calling (`__call__`).\n",
    "assert first.get([0,1,2,3]) == first([0,1,2,3]) == 0\n",
    "\n",
    "# setter can be accessed using the `set` method.\n",
    "first.set([0,1,2,3], val=42) == [42, 1, 2, 3]\n",
    "\n",
    "# Expressions.\n",
    "\n",
    "plusfirsts = arg[0] + arg[1] # lens that first grabs the first two items in the first argument and adds them.\n",
    "# Note that once expression lenses are constructed, `set` can no longer be used on them.\n",
    "\n",
    "plusfirsts # = 4\n",
    "\n",
    "# Literals/constants -- Expression lenses can involve literals/constants.\n",
    "\n",
    "plusone = arg + 1\n",
    "assert plusone(3) == 4"
   ]
  },
  {
   "cell_type": "code",
   "execution_count": null,
   "metadata": {},
   "outputs": [],
   "source": [
    "repr(plusone)"
   ]
  },
  {
   "cell_type": "code",
   "execution_count": null,
   "metadata": {},
   "outputs": [],
   "source": [
    "first.set([0,1,2,3], val=42) == [42, 1, 2, 3]"
   ]
  },
  {
   "cell_type": "code",
   "execution_count": null,
   "metadata": {},
   "outputs": [],
   "source": [
    "for l in Lenses.dict_items(dict(a=1,b=2)):\n",
    "    print(l)"
   ]
  },
  {
   "cell_type": "code",
   "execution_count": null,
   "metadata": {},
   "outputs": [],
   "source": [
    "list(map((arg+10).get, [1,2,3]))"
   ]
  },
  {
   "cell_type": "code",
   "execution_count": null,
   "metadata": {},
   "outputs": [],
   "source": [
    "(kwargs[\"hello\"] + 42)(hello=42)"
   ]
  },
  {
   "cell_type": "code",
   "execution_count": null,
   "metadata": {},
   "outputs": [],
   "source": [
    "Lens()[42]+10"
   ]
  },
  {
   "cell_type": "code",
   "execution_count": null,
   "metadata": {},
   "outputs": [],
   "source": [
    "d = dict(hello=42)\n",
    "print(d)\n",
    "print(Steps()['hello'].set(d, 43))\n",
    "print(d)"
   ]
  },
  {
   "cell_type": "code",
   "execution_count": null,
   "metadata": {},
   "outputs": [],
   "source": [
    "Literal(val=42) + 42"
   ]
  },
  {
   "cell_type": "code",
   "execution_count": null,
   "metadata": {},
   "outputs": [],
   "source": [
    "Lens().something + 42"
   ]
  },
  {
   "cell_type": "code",
   "execution_count": null,
   "metadata": {},
   "outputs": [],
   "source": [
    "Kwarg(kwarg=\"a\")(a=42)"
   ]
  },
  {
   "cell_type": "code",
   "execution_count": null,
   "metadata": {},
   "outputs": [],
   "source": []
  }
 ],
 "metadata": {
  "kernelspec": {
   "display_name": "py38_trulens",
   "language": "python",
   "name": "python3"
  },
  "language_info": {
   "codemirror_mode": {
    "name": "ipython",
    "version": 3
   },
   "file_extension": ".py",
   "mimetype": "text/x-python",
   "name": "python",
   "nbconvert_exporter": "python",
   "pygments_lexer": "ipython3",
   "version": "3.11.6"
  }
 },
 "nbformat": 4,
 "nbformat_minor": 2
}
